{
 "cells": [
  {
   "cell_type": "code",
   "execution_count": 1,
   "id": "accredited-native",
   "metadata": {},
   "outputs": [],
   "source": [
    "import getpass\n",
    "# And pyspark.sql to get the spark session\n",
    "from pathlib import Path\n",
    "import pickle\n",
    "import os\n",
    "import pandas as pd\n",
    "import pickle\n",
    "import os\n",
    "import time\n",
    "import numpy as np\n",
    "from tqdm import tqdm_notebook as tqdm \n",
    "import matplotlib.pyplot as plt \n",
    "import annoy"
   ]
  },
  {
   "cell_type": "code",
   "execution_count": 2,
   "id": "ahead-gardening",
   "metadata": {},
   "outputs": [],
   "source": [
    "user_vec = pd.read_parquet(\"user_vec_small.parquet\",engine = 'pyarrow')"
   ]
  },
  {
   "cell_type": "code",
   "execution_count": 3,
   "id": "discrete-knock",
   "metadata": {},
   "outputs": [],
   "source": [
    "item_vec =  pd.read_parquet(\"item_vec_small.parquet\",engine = 'pyarrow')"
   ]
  },
  {
   "cell_type": "code",
   "execution_count": 4,
   "id": "quarterly-occupation",
   "metadata": {},
   "outputs": [
    {
     "data": {
      "text/plain": [
       "'/home/rz2432/final-project-group_101/CheckPoint Submission/fast_search'"
      ]
     },
     "execution_count": 4,
     "metadata": {},
     "output_type": "execute_result"
    }
   ],
   "source": [
    "pwd"
   ]
  },
  {
   "cell_type": "code",
   "execution_count": 5,
   "id": "associate-livestock",
   "metadata": {},
   "outputs": [],
   "source": [
    "ratings_full_train = pd.read_csv('/home/rz2432/final-project-group_101/CheckPoint Submission/ratings_small_train.csv', names = ('userId', 'movieId', 'rating', 'timestamp'))\n",
    "ratings_full_val = pd.read_csv('/home/rz2432/final-project-group_101/CheckPoint Submission/ratings_small_val.csv', names = ('userId', 'movieId', 'rating', 'timestamp', \"median_timestamp\"))\n",
    "ratings_full_test = pd.read_csv('/home/rz2432/final-project-group_101/CheckPoint Submission/ratings_small_test.csv', names = ('userId', 'movieId', 'rating', 'timestamp', \"median_timestamp\"))\n",
    "\n",
    "ratings_full_val = ratings_full_val.drop(columns=['median_timestamp'])\n",
    "ratings_full_test = ratings_full_test.drop(columns=['median_timestamp'])\n",
    "ratings_full_train = ratings_full_train.drop(columns=['timestamp'])\n",
    "ratings_full_val = ratings_full_val.drop(columns=['timestamp'])\n",
    "ratings_full_test = ratings_full_test.drop(columns=['timestamp'])"
   ]
  },
  {
   "cell_type": "code",
   "execution_count": 6,
   "id": "acute-mystery",
   "metadata": {},
   "outputs": [],
   "source": [
    "total_item_user = pd.concat([ratings_full_train, ratings_full_test, ratings_full_val]).drop_duplicates()\n",
    "#sort by ratings\n",
    "total_item_user = total_item_user.sort_values(['rating'])\n",
    "total_item_user['new_movieId'] = (total_item_user.groupby(['movieId'], sort=False).ngroup()+1)"
   ]
  },
  {
   "cell_type": "code",
   "execution_count": 7,
   "id": "sensitive-stone",
   "metadata": {},
   "outputs": [],
   "source": [
    "label = total_item_user.groupby('userId')['movieId'].apply(list).to_numpy()"
   ]
  },
  {
   "cell_type": "code",
   "execution_count": 8,
   "id": "lyric-impression",
   "metadata": {},
   "outputs": [
    {
     "data": {
      "text/plain": [
       "[114060,\n",
       " 91658,\n",
       " 77455,\n",
       " 318,\n",
       " 71535,\n",
       " 109487,\n",
       " 91529,\n",
       " 99114,\n",
       " 115713,\n",
       " 8798,\n",
       " 3578,\n",
       " 6874,\n",
       " 74458,\n",
       " 79132,\n",
       " 112552,\n",
       " 333,\n",
       " 46970,\n",
       " 48516,\n",
       " 86345,\n",
       " 80489,\n",
       " 68157,\n",
       " 58559,\n",
       " 1704,\n",
       " 80906,\n",
       " 60756,\n",
       " 122882,\n",
       " 89774,\n",
       " 106782,\n",
       " 131724]"
      ]
     },
     "execution_count": 8,
     "metadata": {},
     "output_type": "execute_result"
    }
   ],
   "source": [
    "label[1]"
   ]
  },
  {
   "cell_type": "code",
   "execution_count": 9,
   "id": "appointed-charles",
   "metadata": {},
   "outputs": [],
   "source": [
    "user = user_vec['features'].to_numpy()\n",
    "item = item_vec['features'].to_numpy()"
   ]
  },
  {
   "cell_type": "code",
   "execution_count": 10,
   "id": "contained-faith",
   "metadata": {},
   "outputs": [],
   "source": [
    "item = np.array([x for x in item]) \n",
    "user = np.array([x for x in user]) "
   ]
  },
  {
   "cell_type": "markdown",
   "id": "eligible-refund",
   "metadata": {},
   "source": [
    "Fast search: use a spatial data structure (e.g., LSH or partition trees) to implement accelerated search at query time. For this, it is best to use an existing library such as annoy, nmslib, or scann and you will need to export the model parameters from Spark to work in your chosen environment. For full credit, you should provide a thorough evaluation of the efficiency gains provided by your spatial data structure over a brute-force search method."
   ]
  },
  {
   "cell_type": "code",
   "execution_count": 11,
   "id": "basic-species",
   "metadata": {},
   "outputs": [
    {
     "name": "stderr",
     "output_type": "stream",
     "text": [
      "<ipython-input-11-2127fb04794e>:1: VisibleDeprecationWarning: Creating an ndarray from ragged nested sequences (which is a list-or-tuple of lists-or-tuples-or ndarrays with different lengths or shapes) is deprecated. If you meant to do this, you must specify 'dtype=object' when creating the ndarray.\n",
      "  true_label = np.array([x for x in label])\n"
     ]
    }
   ],
   "source": [
    "true_label = np.array([x for x in label]) "
   ]
  },
  {
   "cell_type": "code",
   "execution_count": 12,
   "id": "inside-niger",
   "metadata": {},
   "outputs": [],
   "source": [
    "def query_one_user(item,user,query,k):\n",
    "    start = time.time()\n",
    "    res = np.argsort(-item.dot(query))[:k]\n",
    "    time_taken = time.time() - start\n",
    "    return res,time_taken"
   ]
  },
  {
   "cell_type": "code",
   "execution_count": 13,
   "id": "twenty-variance",
   "metadata": {},
   "outputs": [
    {
     "data": {
      "text/plain": [
       "(array([5677, 4270, 2920, 6986,  344, 2707,    8, 2330,  886, 6507]),\n",
       " 0.0007522106170654297)"
      ]
     },
     "execution_count": 13,
     "metadata": {},
     "output_type": "execute_result"
    }
   ],
   "source": [
    "query_one_user(item,user,user[600],10)"
   ]
  },
  {
   "cell_type": "code",
   "execution_count": 18,
   "id": "professional-offer",
   "metadata": {},
   "outputs": [],
   "source": [
    "def precision(pred, label):\n",
    "    count = 0\n",
    "    for i in range(len(pred)):\n",
    "        if pred[i] in label:\n",
    "            count +=1\n",
    "    return count/len(pred)"
   ]
  },
  {
   "cell_type": "code",
   "execution_count": 23,
   "id": "stupid-latino",
   "metadata": {},
   "outputs": [],
   "source": [
    "def brutal_search(items,users,k,label):\n",
    "    n_items = item.shape[0]\n",
    "    n_feat = item.shape[1]\n",
    "    n_users = user.shape[0]\n",
    "    \n",
    "    time_list = []\n",
    "    result_list = []\n",
    "    acc = []\n",
    "    \n",
    "    for i in tqdm(range(n_users)):\n",
    "        neighbours,time_taken = query_one_user(items,users,users[i],k)\n",
    "        prec = precision(neighbours, label[i])\n",
    "        time_list.append(time_taken) \n",
    "        result_list.append(neighbours)\n",
    "        acc.append(prec)\n",
    "        \n",
    "\n",
    "    avg_time = sum(time_list) / len(time_list) \n",
    "    accu = sum(acc) / len(acc) \n",
    "    print(avg_time)\n",
    "    print('brute search time:%.6f' % avg_time)\n",
    "    print('accuracy:%.6f' % accu)\n",
    "    \n",
    "    return avg_time,result_list"
   ]
  },
  {
   "cell_type": "code",
   "execution_count": 24,
   "id": "honey-warehouse",
   "metadata": {},
   "outputs": [
    {
     "name": "stderr",
     "output_type": "stream",
     "text": [
      "<ipython-input-23-30bf195d9ed0>:10: TqdmDeprecationWarning: This function will be removed in tqdm==5.0.0\n",
      "Please use `tqdm.notebook.tqdm` instead of `tqdm.tqdm_notebook`\n",
      "  for i in tqdm(range(n_users)):\n"
     ]
    },
    {
     "data": {
      "application/vnd.jupyter.widget-view+json": {
       "model_id": "8365acaf4b8246cd8545dad0ff308dd6",
       "version_major": 2,
       "version_minor": 0
      },
      "text/plain": [
       "  0%|          | 0/610 [00:00<?, ?it/s]"
      ]
     },
     "metadata": {},
     "output_type": "display_data"
    },
    {
     "name": "stdout",
     "output_type": "stream",
     "text": [
      "0.0005664954419995917\n",
      "brute search time:0.000566\n",
      "accuracy:0.016393\n"
     ]
    }
   ],
   "source": [
    "time_b,result_b = brutal_search(item,user,100,true_label)"
   ]
  },
  {
   "cell_type": "code",
   "execution_count": 16,
   "id": "broken-librarian",
   "metadata": {},
   "outputs": [],
   "source": []
  },
  {
   "cell_type": "code",
   "execution_count": null,
   "id": "heated-telling",
   "metadata": {},
   "outputs": [],
   "source": [
    "for i in "
   ]
  },
  {
   "cell_type": "markdown",
   "id": "realistic-restoration",
   "metadata": {},
   "source": [
    "### Fast search with annoy"
   ]
  },
  {
   "cell_type": "code",
   "execution_count": 25,
   "id": "backed-retention",
   "metadata": {},
   "outputs": [],
   "source": [
    "def build_tree(item,n_trees):\n",
    "    f = len(item[0])\n",
    "    t = annoy.AnnoyIndex(f, metric='dot') \n",
    "    for i in range(len(item)):\n",
    "        t.add_item(i, item[i])\n",
    "    t.build(n_trees)\n",
    "    return t"
   ]
  },
  {
   "cell_type": "code",
   "execution_count": 26,
   "id": "encouraging-boards",
   "metadata": {},
   "outputs": [],
   "source": [
    "def wrapup(obj, method, mapping): \n",
    "    get_map = lambda x: [x[mapping[i]] for i in range(len(mapping))]\n",
    "    def wrapped(*args, **kwrds):\n",
    "        return obj.__getattribute__(method)(*get_map(args)) \n",
    "    return wrapped"
   ]
  },
  {
   "cell_type": "code",
   "execution_count": 27,
   "id": "under-impression",
   "metadata": {},
   "outputs": [],
   "source": [
    "def fast_query_one_user(item,user,query,k,param,model_wrapped):\n",
    "    start = time.time()\n",
    "    res = model_wrapped(query, k, 100) \n",
    "    interval = time.time() - start\n",
    "    return interval, res"
   ]
  },
  {
   "cell_type": "code",
   "execution_count": 28,
   "id": "strange-publicity",
   "metadata": {},
   "outputs": [
    {
     "name": "stdout",
     "output_type": "stream",
     "text": [
      "0.00014662742614746094 [6839, 1211, 75, 795, 3930, 1099, 6378, 5459, 6575, 2058]\n"
     ]
    }
   ],
   "source": [
    "tree = build_tree(item,100)\n",
    "wrapped = wrapup(tree, 'get_nns_by_vector', [0, 1, 2])\n",
    "time_taken,result = fast_query_one_user(item,user,user[0],10,[0,1,2],wrapped)\n",
    "print(time_taken,result)"
   ]
  },
  {
   "cell_type": "code",
   "execution_count": 29,
   "id": "drawn-flour",
   "metadata": {},
   "outputs": [],
   "source": [
    "def precision(pred, label):\n",
    "    count = 0\n",
    "    for i in range(len(pred)):\n",
    "        if pred[i] in label:\n",
    "            count +=1\n",
    "    return count/len(pred)"
   ]
  },
  {
   "cell_type": "code",
   "execution_count": 30,
   "id": "molecular-heart",
   "metadata": {},
   "outputs": [
    {
     "data": {
      "text/plain": [
       "0.1"
      ]
     },
     "execution_count": 30,
     "metadata": {},
     "output_type": "execute_result"
    }
   ],
   "source": [
    "precision(result, true_label[0])"
   ]
  },
  {
   "cell_type": "code",
   "execution_count": 31,
   "id": "irish-essence",
   "metadata": {},
   "outputs": [],
   "source": [
    "def fast_search_with_annoy(item,user,label,model_wrapped,k):\n",
    "    n_items = item.shape[0]\n",
    "    n_feat = item.shape[1]\n",
    "    n_users = user.shape[0]\n",
    "    \n",
    "    times = []\n",
    "    precisions = []\n",
    "    results = []\n",
    "\n",
    "    for i in tqdm(range(n_users)):\n",
    "        interval, res = fast_query_one_user(item,user,user[i],k,[0,1,2],model_wrapped)\n",
    "        prec = precision(res, label[i]) \n",
    "        results.append(res)\n",
    "        times.append(interval) \n",
    "        precisions.append(prec)\n",
    "\n",
    "    mean_time = sum(times) / len(times) \n",
    "    mean_precision = sum(precisions) / len(precisions)\n",
    "    print('-' * 26)\n",
    "    print('Mean Query Search Time: %.6f' % mean_time) \n",
    "    print('Mean precision: %.6f' % mean_precision)\n",
    "    return mean_time, mean_precision,results"
   ]
  },
  {
   "cell_type": "code",
   "execution_count": 32,
   "id": "oriental-falls",
   "metadata": {},
   "outputs": [
    {
     "name": "stderr",
     "output_type": "stream",
     "text": [
      "<ipython-input-31-8c63e029819a>:10: TqdmDeprecationWarning: This function will be removed in tqdm==5.0.0\n",
      "Please use `tqdm.notebook.tqdm` instead of `tqdm.tqdm_notebook`\n",
      "  for i in tqdm(range(n_users)):\n"
     ]
    },
    {
     "data": {
      "application/vnd.jupyter.widget-view+json": {
       "model_id": "e1d13d4f1ce541d78d066de95cd342a3",
       "version_major": 2,
       "version_minor": 0
      },
      "text/plain": [
       "  0%|          | 0/610 [00:00<?, ?it/s]"
      ]
     },
     "metadata": {},
     "output_type": "display_data"
    },
    {
     "name": "stdout",
     "output_type": "stream",
     "text": [
      "--------------------------\n",
      "Mean Query Search Time: 0.000053\n",
      "Mean precision: 0.019754\n"
     ]
    }
   ],
   "source": [
    "tree = build_tree(item,100)\n",
    "wrapped = wrapup(tree, 'get_nns_by_vector', [0, 1, 2])\n",
    "proces_time, accuracy, result = fast_search_with_annoy(item,user,true_label, wrapped, 100) "
   ]
  },
  {
   "cell_type": "code",
   "execution_count": 33,
   "id": "thirty-croatia",
   "metadata": {},
   "outputs": [
    {
     "name": "stderr",
     "output_type": "stream",
     "text": [
      "<ipython-input-31-8c63e029819a>:10: TqdmDeprecationWarning: This function will be removed in tqdm==5.0.0\n",
      "Please use `tqdm.notebook.tqdm` instead of `tqdm.tqdm_notebook`\n",
      "  for i in tqdm(range(n_users)):\n"
     ]
    },
    {
     "data": {
      "application/vnd.jupyter.widget-view+json": {
       "model_id": "0523a69cc195462bb46e1b3c0dca7885",
       "version_major": 2,
       "version_minor": 0
      },
      "text/plain": [
       "  0%|          | 0/610 [00:00<?, ?it/s]"
      ]
     },
     "metadata": {},
     "output_type": "display_data"
    },
    {
     "name": "stdout",
     "output_type": "stream",
     "text": [
      "--------------------------\n",
      "Mean Query Search Time: 0.000027\n",
      "Mean precision: 0.016656\n"
     ]
    },
    {
     "data": {
      "application/vnd.jupyter.widget-view+json": {
       "model_id": "556bb80b5cf44d229da223c5d187ccee",
       "version_major": 2,
       "version_minor": 0
      },
      "text/plain": [
       "  0%|          | 0/610 [00:00<?, ?it/s]"
      ]
     },
     "metadata": {},
     "output_type": "display_data"
    },
    {
     "name": "stdout",
     "output_type": "stream",
     "text": [
      "--------------------------\n",
      "Mean Query Search Time: 0.000051\n",
      "Mean precision: 0.019754\n"
     ]
    },
    {
     "data": {
      "application/vnd.jupyter.widget-view+json": {
       "model_id": "d3a717a167724178a95506619fcba873",
       "version_major": 2,
       "version_minor": 0
      },
      "text/plain": [
       "  0%|          | 0/610 [00:00<?, ?it/s]"
      ]
     },
     "metadata": {},
     "output_type": "display_data"
    },
    {
     "name": "stdout",
     "output_type": "stream",
     "text": [
      "--------------------------\n",
      "Mean Query Search Time: 0.000087\n",
      "Mean precision: 0.019082\n"
     ]
    },
    {
     "data": {
      "application/vnd.jupyter.widget-view+json": {
       "model_id": "6f676eb8f1fb4e43b7dd81067693c620",
       "version_major": 2,
       "version_minor": 0
      },
      "text/plain": [
       "  0%|          | 0/610 [00:00<?, ?it/s]"
      ]
     },
     "metadata": {},
     "output_type": "display_data"
    },
    {
     "name": "stdout",
     "output_type": "stream",
     "text": [
      "--------------------------\n",
      "Mean Query Search Time: 0.000151\n",
      "Mean precision: 0.013574\n"
     ]
    },
    {
     "data": {
      "application/vnd.jupyter.widget-view+json": {
       "model_id": "2f6ce8d68a9b4f4eb11c0dc5922f7008",
       "version_major": 2,
       "version_minor": 0
      },
      "text/plain": [
       "  0%|          | 0/610 [00:00<?, ?it/s]"
      ]
     },
     "metadata": {},
     "output_type": "display_data"
    },
    {
     "name": "stdout",
     "output_type": "stream",
     "text": [
      "--------------------------\n",
      "Mean Query Search Time: 0.000210\n",
      "Mean precision: 0.013557\n"
     ]
    },
    {
     "data": {
      "application/vnd.jupyter.widget-view+json": {
       "model_id": "348b700803d9434b9a83ce1b9bfad3b2",
       "version_major": 2,
       "version_minor": 0
      },
      "text/plain": [
       "  0%|          | 0/610 [00:00<?, ?it/s]"
      ]
     },
     "metadata": {},
     "output_type": "display_data"
    },
    {
     "name": "stdout",
     "output_type": "stream",
     "text": [
      "--------------------------\n",
      "Mean Query Search Time: 0.000330\n",
      "Mean precision: 0.013607\n"
     ]
    }
   ],
   "source": [
    "n_trees = [10,100,200,500,700,1000]\n",
    "\n",
    "loop_time = []\n",
    "loop_precision = []\n",
    "loop_res = []\n",
    "selection = []\n",
    "for k in n_trees:\n",
    "    tree = build_tree(item,k)\n",
    "    wrapped = wrapup(tree, 'get_nns_by_vector', [0, 1, 2])\n",
    "    proces_time, accuracy, result = fast_search_with_annoy(item,user,true_label, wrapped, 100)\n",
    "    selection.append(k)\n",
    "    loop_time.append(proces_time)\n",
    "    loop_precision.append(accuracy)\n",
    "    loop_res.append(result)"
   ]
  },
  {
   "cell_type": "code",
   "execution_count": 34,
   "id": "informational-cursor",
   "metadata": {},
   "outputs": [],
   "source": [
    "evaluation = {\"params\":selection,\"times\":loop_time,\"accuracy\":loop_precision}"
   ]
  },
  {
   "cell_type": "code",
   "execution_count": 35,
   "id": "variable-british",
   "metadata": {},
   "outputs": [
    {
     "data": {
      "text/html": [
       "<div>\n",
       "<style scoped>\n",
       "    .dataframe tbody tr th:only-of-type {\n",
       "        vertical-align: middle;\n",
       "    }\n",
       "\n",
       "    .dataframe tbody tr th {\n",
       "        vertical-align: top;\n",
       "    }\n",
       "\n",
       "    .dataframe thead th {\n",
       "        text-align: right;\n",
       "    }\n",
       "</style>\n",
       "<table border=\"1\" class=\"dataframe\">\n",
       "  <thead>\n",
       "    <tr style=\"text-align: right;\">\n",
       "      <th></th>\n",
       "      <th>params</th>\n",
       "      <th>times</th>\n",
       "      <th>accuracy</th>\n",
       "    </tr>\n",
       "  </thead>\n",
       "  <tbody>\n",
       "    <tr>\n",
       "      <th>0</th>\n",
       "      <td>10</td>\n",
       "      <td>0.000027</td>\n",
       "      <td>0.016656</td>\n",
       "    </tr>\n",
       "    <tr>\n",
       "      <th>1</th>\n",
       "      <td>100</td>\n",
       "      <td>0.000051</td>\n",
       "      <td>0.019754</td>\n",
       "    </tr>\n",
       "    <tr>\n",
       "      <th>2</th>\n",
       "      <td>200</td>\n",
       "      <td>0.000087</td>\n",
       "      <td>0.019082</td>\n",
       "    </tr>\n",
       "    <tr>\n",
       "      <th>3</th>\n",
       "      <td>500</td>\n",
       "      <td>0.000151</td>\n",
       "      <td>0.013574</td>\n",
       "    </tr>\n",
       "    <tr>\n",
       "      <th>4</th>\n",
       "      <td>700</td>\n",
       "      <td>0.000210</td>\n",
       "      <td>0.013557</td>\n",
       "    </tr>\n",
       "    <tr>\n",
       "      <th>5</th>\n",
       "      <td>1000</td>\n",
       "      <td>0.000330</td>\n",
       "      <td>0.013607</td>\n",
       "    </tr>\n",
       "  </tbody>\n",
       "</table>\n",
       "</div>"
      ],
      "text/plain": [
       "   params     times  accuracy\n",
       "0      10  0.000027  0.016656\n",
       "1     100  0.000051  0.019754\n",
       "2     200  0.000087  0.019082\n",
       "3     500  0.000151  0.013574\n",
       "4     700  0.000210  0.013557\n",
       "5    1000  0.000330  0.013607"
      ]
     },
     "execution_count": 35,
     "metadata": {},
     "output_type": "execute_result"
    }
   ],
   "source": [
    "pd.DataFrame(evaluation)"
   ]
  },
  {
   "cell_type": "code",
   "execution_count": 36,
   "id": "elegant-flavor",
   "metadata": {},
   "outputs": [
    {
     "name": "stderr",
     "output_type": "stream",
     "text": [
      "<ipython-input-31-8c63e029819a>:10: TqdmDeprecationWarning: This function will be removed in tqdm==5.0.0\n",
      "Please use `tqdm.notebook.tqdm` instead of `tqdm.tqdm_notebook`\n",
      "  for i in tqdm(range(n_users)):\n"
     ]
    },
    {
     "data": {
      "application/vnd.jupyter.widget-view+json": {
       "model_id": "f522565c78114261a092880e36facd4d",
       "version_major": 2,
       "version_minor": 0
      },
      "text/plain": [
       "  0%|          | 0/610 [00:00<?, ?it/s]"
      ]
     },
     "metadata": {},
     "output_type": "display_data"
    },
    {
     "name": "stdout",
     "output_type": "stream",
     "text": [
      "--------------------------\n",
      "Mean Query Search Time: 0.000057\n",
      "Mean precision: 0.019754\n"
     ]
    }
   ],
   "source": [
    "#tree = 100\n",
    "tree = build_tree(item,100)\n",
    "wrapped = wrapup(tree, 'get_nns_by_vector', [0, 1, 2])\n",
    "proces_time, accuracy, result = fast_search_with_annoy(item,user,true_label, wrapped, 100) "
   ]
  },
  {
   "cell_type": "code",
   "execution_count": null,
   "id": "starting-identifier",
   "metadata": {},
   "outputs": [],
   "source": []
  }
 ],
 "metadata": {
  "kernelspec": {
   "display_name": "Python 3",
   "language": "python",
   "name": "python3"
  },
  "language_info": {
   "codemirror_mode": {
    "name": "ipython",
    "version": 3
   },
   "file_extension": ".py",
   "mimetype": "text/x-python",
   "name": "python",
   "nbconvert_exporter": "python",
   "pygments_lexer": "ipython3",
   "version": "3.8.5"
  }
 },
 "nbformat": 4,
 "nbformat_minor": 5
}
