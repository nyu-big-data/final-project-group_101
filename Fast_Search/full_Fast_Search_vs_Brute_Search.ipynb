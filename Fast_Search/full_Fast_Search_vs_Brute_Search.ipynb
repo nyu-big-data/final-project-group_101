{
 "cells": [
  {
   "cell_type": "code",
   "execution_count": 1,
   "id": "horizontal-discharge",
   "metadata": {},
   "outputs": [],
   "source": [
    "import getpass\n",
    "# And pyspark.sql to get the spark session\n",
    "from pathlib import Path\n",
    "import pickle\n",
    "import os\n",
    "import pandas as pd\n",
    "import pickle\n",
    "import os\n",
    "import time\n",
    "import numpy as np\n",
    "from tqdm import tqdm_notebook as tqdm \n",
    "import matplotlib.pyplot as plt \n",
    "import annoy\n",
    "\n",
    "# Python3 program to demonstrate\n",
    "# the use of sample() function .\n",
    "  \n",
    "# import random \n",
    "from random import sample"
   ]
  },
  {
   "cell_type": "code",
   "execution_count": 2,
   "id": "physical-tutorial",
   "metadata": {},
   "outputs": [],
   "source": [
    "user_vec = pd.read_parquet(\"user_vec_large.parquet\",engine = 'pyarrow')"
   ]
  },
  {
   "cell_type": "code",
   "execution_count": 3,
   "id": "civilian-screening",
   "metadata": {},
   "outputs": [],
   "source": [
    "item_vec =  pd.read_parquet(\"item_vec_large.parquet\",engine = 'pyarrow')"
   ]
  },
  {
   "cell_type": "code",
   "execution_count": 4,
   "id": "deadly-cancer",
   "metadata": {},
   "outputs": [
    {
     "data": {
      "text/plain": [
       "'/home/rz2432/final-project-group_101/CheckPoint Submission/fast_search'"
      ]
     },
     "execution_count": 4,
     "metadata": {},
     "output_type": "execute_result"
    }
   ],
   "source": [
    "pwd"
   ]
  },
  {
   "cell_type": "code",
   "execution_count": 5,
   "id": "civic-operations",
   "metadata": {},
   "outputs": [],
   "source": [
    "ratings_full_train = pd.read_csv('/home/rz2432/final-project-group_101/CheckPoint Submission/ratings_full_train.csv', names = ('userId', 'movieId', 'rating', 'timestamp'))\n",
    "ratings_full_val = pd.read_csv('/home/rz2432/final-project-group_101/CheckPoint Submission/ratings_full_val.csv', names = ('userId', 'movieId', 'rating', 'timestamp', \"median_timestamp\"))\n",
    "ratings_full_test = pd.read_csv('/home/rz2432/final-project-group_101/CheckPoint Submission/ratings_full_test.csv', names = ('userId', 'movieId', 'rating', 'timestamp', \"median_timestamp\"))\n",
    "\n",
    "ratings_full_val = ratings_full_val.drop(columns=['median_timestamp'])\n",
    "ratings_full_test = ratings_full_test.drop(columns=['median_timestamp'])\n",
    "ratings_full_train = ratings_full_train.drop(columns=['timestamp'])\n",
    "ratings_full_val = ratings_full_val.drop(columns=['timestamp'])\n",
    "ratings_full_test = ratings_full_test.drop(columns=['timestamp'])"
   ]
  },
  {
   "cell_type": "code",
   "execution_count": 6,
   "id": "dental-label",
   "metadata": {},
   "outputs": [],
   "source": [
    "total_item_user = pd.concat([ratings_full_train, ratings_full_test, ratings_full_val]).drop_duplicates()\n",
    "#sort by ratings\n",
    "total_item_user = total_item_user.sort_values(['rating'])\n",
    "total_item_user['new_movieId'] = (total_item_user.groupby(['movieId'], sort=False).ngroup()+1)"
   ]
  },
  {
   "cell_type": "code",
   "execution_count": 7,
   "id": "unlikely-punch",
   "metadata": {},
   "outputs": [],
   "source": [
    "label = total_item_user.groupby('userId')['movieId'].apply(list).to_numpy()"
   ]
  },
  {
   "cell_type": "code",
   "execution_count": 8,
   "id": "reverse-liabilities",
   "metadata": {},
   "outputs": [],
   "source": [
    "user = user_vec['features'].to_numpy()\n",
    "item = item_vec['features'].to_numpy()"
   ]
  },
  {
   "cell_type": "code",
   "execution_count": 9,
   "id": "attached-regard",
   "metadata": {},
   "outputs": [],
   "source": [
    "item = np.array([x for x in item]) \n",
    "user = np.array([x for x in user]) "
   ]
  },
  {
   "cell_type": "code",
   "execution_count": 10,
   "id": "interior-floor",
   "metadata": {},
   "outputs": [
    {
     "name": "stderr",
     "output_type": "stream",
     "text": [
      "<ipython-input-10-2127fb04794e>:1: VisibleDeprecationWarning: Creating an ndarray from ragged nested sequences (which is a list-or-tuple of lists-or-tuples-or ndarrays with different lengths or shapes) is deprecated. If you meant to do this, you must specify 'dtype=object' when creating the ndarray.\n",
      "  true_label = np.array([x for x in label])\n"
     ]
    }
   ],
   "source": [
    "true_label = np.array([x for x in label]) "
   ]
  },
  {
   "cell_type": "code",
   "execution_count": null,
   "id": "bored-strengthening",
   "metadata": {},
   "outputs": [],
   "source": [
    "#sampling"
   ]
  },
  {
   "cell_type": "code",
   "execution_count": 11,
   "id": "frozen-cameroon",
   "metadata": {},
   "outputs": [],
   "source": [
    "def query_one_user(item,user,query,k):\n",
    "    start = time.time()\n",
    "    res = np.argsort(-item.dot(query))[:k]\n",
    "    time_taken = time.time() - start\n",
    "    return res,time_taken"
   ]
  },
  {
   "cell_type": "code",
   "execution_count": 12,
   "id": "bridal-missile",
   "metadata": {},
   "outputs": [
    {
     "data": {
      "text/plain": [
       "(array([17174, 12833, 18192, 38356,  9317, 26396,  9313, 21390, 34097,\n",
       "        38351]),\n",
       " 0.004630088806152344)"
      ]
     },
     "execution_count": 12,
     "metadata": {},
     "output_type": "execute_result"
    }
   ],
   "source": [
    "query_one_user(item,user,user[600],10)"
   ]
  },
  {
   "cell_type": "code",
   "execution_count": 20,
   "id": "rational-batman",
   "metadata": {},
   "outputs": [],
   "source": [
    "def precision(pred, label):\n",
    "    count = 0\n",
    "    for i in range(len(pred)):\n",
    "        if pred[i] in label:\n",
    "            count +=1\n",
    "    return count/len(pred)"
   ]
  },
  {
   "cell_type": "code",
   "execution_count": 27,
   "id": "interracial-stocks",
   "metadata": {},
   "outputs": [],
   "source": [
    "def brutal_search(items,users,k,label,user_sample):\n",
    "    n_items = item.shape[0]\n",
    "    n_feat = item.shape[1]\n",
    "    n_users = user_sample.shape[0]\n",
    "    \n",
    "    time_list = []\n",
    "    result_list = []\n",
    "    acc = []\n",
    "    \n",
    "    for i in tqdm(range(n_users)):\n",
    "        neighbours,time_taken = query_one_user(items,users,users[i],k)\n",
    "        prec = precision(neighbours, label[i])\n",
    "        time_list.append(time_taken) \n",
    "        result_list.append(neighbours)\n",
    "        acc.append(prec)\n",
    "        \n",
    "\n",
    "    avg_time = sum(time_list) / len(time_list) \n",
    "    accu = sum(acc) / len(acc) \n",
    "    print(avg_time)\n",
    "    print('brute search time:%.6f' % avg_time)\n",
    "    print('accuracy:%.6f' % accu)\n",
    "    \n",
    "    return avg_time,result_list"
   ]
  },
  {
   "cell_type": "code",
   "execution_count": 32,
   "id": "muslim-ground",
   "metadata": {},
   "outputs": [
    {
     "name": "stderr",
     "output_type": "stream",
     "text": [
      "<ipython-input-27-79ae09858715>:10: TqdmDeprecationWarning: This function will be removed in tqdm==5.0.0\n",
      "Please use `tqdm.notebook.tqdm` instead of `tqdm.tqdm_notebook`\n",
      "  for i in tqdm(range(n_users)):\n"
     ]
    },
    {
     "data": {
      "application/vnd.jupyter.widget-view+json": {
       "model_id": "8957fd3f71624425be6b1465fa4fdb5d",
       "version_major": 2,
       "version_minor": 0
      },
      "text/plain": [
       "  0%|          | 0/10000 [00:00<?, ?it/s]"
      ]
     },
     "metadata": {},
     "output_type": "display_data"
    },
    {
     "name": "stdout",
     "output_type": "stream",
     "text": [
      "0.004413980746269226\n",
      "brute search time:0.004414\n",
      "accuracy:0.002620\n"
     ]
    }
   ],
   "source": [
    "#sample the first 10000 users, otherwise system collapse for brute search \n",
    "time_b,result_b = brutal_search(item,user,100,true_label[:10000],user[:10000])"
   ]
  },
  {
   "cell_type": "markdown",
   "id": "hearing-process",
   "metadata": {},
   "source": [
    "### Fast search with annoy"
   ]
  },
  {
   "cell_type": "code",
   "execution_count": 35,
   "id": "backed-aurora",
   "metadata": {},
   "outputs": [],
   "source": [
    "def build_tree(item,n_trees):\n",
    "    f = len(item[0])\n",
    "    t = annoy.AnnoyIndex(f, metric='dot') \n",
    "    for i in range(len(item)):\n",
    "        t.add_item(i, item[i])\n",
    "    t.build(n_trees)\n",
    "    return t"
   ]
  },
  {
   "cell_type": "code",
   "execution_count": 36,
   "id": "fixed-scanning",
   "metadata": {},
   "outputs": [],
   "source": [
    "def wrapup(obj, method, mapping): \n",
    "    get_map = lambda x: [x[mapping[i]] for i in range(len(mapping))]\n",
    "    def wrapped(*args, **kwrds):\n",
    "        return obj.__getattribute__(method)(*get_map(args)) \n",
    "    return wrapped"
   ]
  },
  {
   "cell_type": "code",
   "execution_count": 37,
   "id": "headed-bargain",
   "metadata": {},
   "outputs": [],
   "source": [
    "def fast_query_one_user(item,user,query,k,param,model_wrapped):\n",
    "    start = time.time()\n",
    "    res = model_wrapped(query, k, 100) \n",
    "    interval = time.time() - start\n",
    "    return interval, res"
   ]
  },
  {
   "cell_type": "code",
   "execution_count": 38,
   "id": "different-alexandria",
   "metadata": {},
   "outputs": [
    {
     "name": "stdout",
     "output_type": "stream",
     "text": [
      "0.00015616416931152344 [2019, 13219, 8635, 38750, 8593, 29813, 35337, 38316, 10793, 26280]\n"
     ]
    }
   ],
   "source": [
    "tree = build_tree(item,100)\n",
    "wrapped = wrapup(tree, 'get_nns_by_vector', [0, 1, 2])\n",
    "time_taken,result = fast_query_one_user(item,user,user[0],10,[0,1,2],wrapped)\n",
    "print(time_taken,result)"
   ]
  },
  {
   "cell_type": "code",
   "execution_count": 39,
   "id": "optimum-presence",
   "metadata": {},
   "outputs": [],
   "source": [
    "def precision(pred, label):\n",
    "    count = 0\n",
    "    for i in range(len(pred)):\n",
    "        if pred[i] in label:\n",
    "            count +=1\n",
    "    return count/len(pred)"
   ]
  },
  {
   "cell_type": "code",
   "execution_count": 40,
   "id": "protecting-indian",
   "metadata": {},
   "outputs": [
    {
     "data": {
      "text/plain": [
       "0.0"
      ]
     },
     "execution_count": 40,
     "metadata": {},
     "output_type": "execute_result"
    }
   ],
   "source": [
    "precision(result, true_label[0])"
   ]
  },
  {
   "cell_type": "code",
   "execution_count": 41,
   "id": "eastern-amino",
   "metadata": {},
   "outputs": [],
   "source": [
    "def fast_search_with_annoy(item,user,label,model_wrapped,k,sample_user):\n",
    "    n_items = item.shape[0]\n",
    "    n_feat = item.shape[1]\n",
    "    n_users = sample_user.shape[0]\n",
    "    \n",
    "    times = []\n",
    "    precisions = []\n",
    "    results = []\n",
    "\n",
    "    for i in tqdm(range(n_users)):\n",
    "        interval, res = fast_query_one_user(item,user,user[i],k,[0,1,2],model_wrapped)\n",
    "        prec = precision(res, label[i]) \n",
    "        results.append(res)\n",
    "        times.append(interval) \n",
    "        precisions.append(prec)\n",
    "\n",
    "    mean_time = sum(times) / len(times) \n",
    "    mean_precision = sum(precisions) / len(precisions)\n",
    "    print('-' * 26)\n",
    "    print('Mean Query Search Time: %.6f' % mean_time) \n",
    "    print('Mean precision: %.6f' % mean_precision)\n",
    "    return mean_time, mean_precision,results"
   ]
  },
  {
   "cell_type": "code",
   "execution_count": 43,
   "id": "mounted-museum",
   "metadata": {},
   "outputs": [
    {
     "name": "stderr",
     "output_type": "stream",
     "text": [
      "<ipython-input-42-8c63e029819a>:10: TqdmDeprecationWarning: This function will be removed in tqdm==5.0.0\n",
      "Please use `tqdm.notebook.tqdm` instead of `tqdm.tqdm_notebook`\n",
      "  for i in tqdm(range(n_users)):\n"
     ]
    },
    {
     "data": {
      "application/vnd.jupyter.widget-view+json": {
       "model_id": "d925e0dafaa44c6085d86e6ef4ab8518",
       "version_major": 2,
       "version_minor": 0
      },
      "text/plain": [
       "  0%|          | 0/274198 [00:00<?, ?it/s]"
      ]
     },
     "metadata": {},
     "output_type": "display_data"
    },
    {
     "name": "stdout",
     "output_type": "stream",
     "text": [
      "--------------------------\n",
      "Mean Query Search Time: 0.000070\n",
      "Mean precision: 0.001866\n"
     ]
    }
   ],
   "source": [
    "tree = build_tree(item,100)\n",
    "wrapped = wrapup(tree, 'get_nns_by_vector', [0, 1, 2])\n",
    "proces_time, accuracy, result = fast_search_with_annoy(item,user,true_label, wrapped, 100,user) "
   ]
  },
  {
   "cell_type": "code",
   "execution_count": 45,
   "id": "standard-magic",
   "metadata": {},
   "outputs": [
    {
     "name": "stderr",
     "output_type": "stream",
     "text": [
      "<ipython-input-42-8c63e029819a>:10: TqdmDeprecationWarning: This function will be removed in tqdm==5.0.0\n",
      "Please use `tqdm.notebook.tqdm` instead of `tqdm.tqdm_notebook`\n",
      "  for i in tqdm(range(n_users)):\n"
     ]
    },
    {
     "data": {
      "application/vnd.jupyter.widget-view+json": {
       "model_id": "3af7b1d4107d4636bb9d610c4b1fc888",
       "version_major": 2,
       "version_minor": 0
      },
      "text/plain": [
       "  0%|          | 0/274198 [00:00<?, ?it/s]"
      ]
     },
     "metadata": {},
     "output_type": "display_data"
    },
    {
     "name": "stdout",
     "output_type": "stream",
     "text": [
      "--------------------------\n",
      "Mean Query Search Time: 0.000049\n",
      "Mean precision: 0.001678\n"
     ]
    },
    {
     "data": {
      "application/vnd.jupyter.widget-view+json": {
       "model_id": "9945ea5b3df5415e8df1cbecab823639",
       "version_major": 2,
       "version_minor": 0
      },
      "text/plain": [
       "  0%|          | 0/274198 [00:00<?, ?it/s]"
      ]
     },
     "metadata": {},
     "output_type": "display_data"
    },
    {
     "name": "stdout",
     "output_type": "stream",
     "text": [
      "--------------------------\n",
      "Mean Query Search Time: 0.000068\n",
      "Mean precision: 0.001866\n"
     ]
    },
    {
     "data": {
      "application/vnd.jupyter.widget-view+json": {
       "model_id": "6ca045e65ada4273adfd5d2b22f59a5f",
       "version_major": 2,
       "version_minor": 0
      },
      "text/plain": [
       "  0%|          | 0/274198 [00:00<?, ?it/s]"
      ]
     },
     "metadata": {},
     "output_type": "display_data"
    },
    {
     "name": "stdout",
     "output_type": "stream",
     "text": [
      "--------------------------\n",
      "Mean Query Search Time: 0.000106\n",
      "Mean precision: 0.005166\n"
     ]
    },
    {
     "data": {
      "application/vnd.jupyter.widget-view+json": {
       "model_id": "307adbb54a0643bd84753ba2c0107329",
       "version_major": 2,
       "version_minor": 0
      },
      "text/plain": [
       "  0%|          | 0/274198 [00:00<?, ?it/s]"
      ]
     },
     "metadata": {},
     "output_type": "display_data"
    },
    {
     "name": "stdout",
     "output_type": "stream",
     "text": [
      "--------------------------\n",
      "Mean Query Search Time: 0.000204\n",
      "Mean precision: 0.005164\n"
     ]
    },
    {
     "data": {
      "application/vnd.jupyter.widget-view+json": {
       "model_id": "d63483d972714547891ea16630b893b9",
       "version_major": 2,
       "version_minor": 0
      },
      "text/plain": [
       "  0%|          | 0/274198 [00:00<?, ?it/s]"
      ]
     },
     "metadata": {},
     "output_type": "display_data"
    },
    {
     "name": "stdout",
     "output_type": "stream",
     "text": [
      "--------------------------\n",
      "Mean Query Search Time: 0.000297\n",
      "Mean precision: 0.005164\n"
     ]
    },
    {
     "data": {
      "application/vnd.jupyter.widget-view+json": {
       "model_id": "3a936b4d4ea546bf8c5c220a2479eb0f",
       "version_major": 2,
       "version_minor": 0
      },
      "text/plain": [
       "  0%|          | 0/274198 [00:00<?, ?it/s]"
      ]
     },
     "metadata": {},
     "output_type": "display_data"
    },
    {
     "name": "stdout",
     "output_type": "stream",
     "text": [
      "--------------------------\n",
      "Mean Query Search Time: 0.000467\n",
      "Mean precision: 0.005164\n"
     ]
    }
   ],
   "source": [
    "n_trees = [10,100,200,500,700,1000]\n",
    "\n",
    "loop_time = []\n",
    "loop_precision = []\n",
    "loop_res = []\n",
    "selection = []\n",
    "for k in n_trees:\n",
    "    tree = build_tree(item,k)\n",
    "    wrapped = wrapup(tree, 'get_nns_by_vector', [0, 1, 2])\n",
    "    proces_time, accuracy, result = fast_search_with_annoy(item,user,true_label, wrapped, 100,user)\n",
    "    selection.append(k)\n",
    "    loop_time.append(proces_time)\n",
    "    loop_precision.append(accuracy)\n",
    "    loop_res.append(result)"
   ]
  },
  {
   "cell_type": "code",
   "execution_count": 46,
   "id": "velvet-grammar",
   "metadata": {},
   "outputs": [],
   "source": [
    "evaluation = {\"params\":selection,\"times\":loop_time,\"accuracy\":loop_precision}"
   ]
  },
  {
   "cell_type": "code",
   "execution_count": 47,
   "id": "photographic-composition",
   "metadata": {},
   "outputs": [
    {
     "data": {
      "text/html": [
       "<div>\n",
       "<style scoped>\n",
       "    .dataframe tbody tr th:only-of-type {\n",
       "        vertical-align: middle;\n",
       "    }\n",
       "\n",
       "    .dataframe tbody tr th {\n",
       "        vertical-align: top;\n",
       "    }\n",
       "\n",
       "    .dataframe thead th {\n",
       "        text-align: right;\n",
       "    }\n",
       "</style>\n",
       "<table border=\"1\" class=\"dataframe\">\n",
       "  <thead>\n",
       "    <tr style=\"text-align: right;\">\n",
       "      <th></th>\n",
       "      <th>params</th>\n",
       "      <th>times</th>\n",
       "      <th>accuracy</th>\n",
       "    </tr>\n",
       "  </thead>\n",
       "  <tbody>\n",
       "    <tr>\n",
       "      <th>0</th>\n",
       "      <td>10</td>\n",
       "      <td>0.000049</td>\n",
       "      <td>0.001678</td>\n",
       "    </tr>\n",
       "    <tr>\n",
       "      <th>1</th>\n",
       "      <td>100</td>\n",
       "      <td>0.000068</td>\n",
       "      <td>0.001866</td>\n",
       "    </tr>\n",
       "    <tr>\n",
       "      <th>2</th>\n",
       "      <td>200</td>\n",
       "      <td>0.000106</td>\n",
       "      <td>0.005166</td>\n",
       "    </tr>\n",
       "    <tr>\n",
       "      <th>3</th>\n",
       "      <td>500</td>\n",
       "      <td>0.000204</td>\n",
       "      <td>0.005164</td>\n",
       "    </tr>\n",
       "    <tr>\n",
       "      <th>4</th>\n",
       "      <td>700</td>\n",
       "      <td>0.000297</td>\n",
       "      <td>0.005164</td>\n",
       "    </tr>\n",
       "    <tr>\n",
       "      <th>5</th>\n",
       "      <td>1000</td>\n",
       "      <td>0.000467</td>\n",
       "      <td>0.005164</td>\n",
       "    </tr>\n",
       "  </tbody>\n",
       "</table>\n",
       "</div>"
      ],
      "text/plain": [
       "   params     times  accuracy\n",
       "0      10  0.000049  0.001678\n",
       "1     100  0.000068  0.001866\n",
       "2     200  0.000106  0.005166\n",
       "3     500  0.000204  0.005164\n",
       "4     700  0.000297  0.005164\n",
       "5    1000  0.000467  0.005164"
      ]
     },
     "execution_count": 47,
     "metadata": {},
     "output_type": "execute_result"
    }
   ],
   "source": [
    "pd.DataFrame(evaluation)"
   ]
  },
  {
   "cell_type": "code",
   "execution_count": 49,
   "id": "roman-monday",
   "metadata": {},
   "outputs": [
    {
     "name": "stderr",
     "output_type": "stream",
     "text": [
      "<ipython-input-42-8c63e029819a>:10: TqdmDeprecationWarning: This function will be removed in tqdm==5.0.0\n",
      "Please use `tqdm.notebook.tqdm` instead of `tqdm.tqdm_notebook`\n",
      "  for i in tqdm(range(n_users)):\n"
     ]
    },
    {
     "data": {
      "application/vnd.jupyter.widget-view+json": {
       "model_id": "65137e4f39e840ec9dcfcae88700f530",
       "version_major": 2,
       "version_minor": 0
      },
      "text/plain": [
       "  0%|          | 0/274198 [00:00<?, ?it/s]"
      ]
     },
     "metadata": {},
     "output_type": "display_data"
    },
    {
     "name": "stdout",
     "output_type": "stream",
     "text": [
      "--------------------------\n",
      "Mean Query Search Time: 0.000108\n",
      "Mean precision: 0.005166\n"
     ]
    }
   ],
   "source": [
    "#tree = 200\n",
    "tree = build_tree(item,200)\n",
    "wrapped = wrapup(tree, 'get_nns_by_vector', [0, 1, 2])\n",
    "proces_time, accuracy, result = fast_search_with_annoy(item,user,true_label, wrapped, 100,user)"
   ]
  },
  {
   "cell_type": "code",
   "execution_count": 42,
   "id": "assumed-macedonia",
   "metadata": {},
   "outputs": [
    {
     "name": "stderr",
     "output_type": "stream",
     "text": [
      "<ipython-input-41-e31ed13b8dbd>:10: TqdmDeprecationWarning: This function will be removed in tqdm==5.0.0\n",
      "Please use `tqdm.notebook.tqdm` instead of `tqdm.tqdm_notebook`\n",
      "  for i in tqdm(range(n_users)):\n"
     ]
    },
    {
     "data": {
      "application/vnd.jupyter.widget-view+json": {
       "model_id": "b5448d90fa514ff0b1e455d6489aa798",
       "version_major": 2,
       "version_minor": 0
      },
      "text/plain": [
       "  0%|          | 0/10000 [00:00<?, ?it/s]"
      ]
     },
     "metadata": {},
     "output_type": "display_data"
    },
    {
     "name": "stdout",
     "output_type": "stream",
     "text": [
      "--------------------------\n",
      "Mean Query Search Time: 0.000089\n",
      "Mean precision: 0.005133\n"
     ]
    }
   ],
   "source": [
    "#sample using 10000 user\n",
    "tree = build_tree(item,200)\n",
    "wrapped = wrapup(tree, 'get_nns_by_vector', [0, 1, 2])\n",
    "proces_time, accuracy, result = fast_search_with_annoy(item,user,true_label[:10000], wrapped, 100,user[:10000])"
   ]
  },
  {
   "cell_type": "code",
   "execution_count": null,
   "id": "recognized-shadow",
   "metadata": {},
   "outputs": [],
   "source": []
  }
 ],
 "metadata": {
  "kernelspec": {
   "display_name": "Python 3",
   "language": "python",
   "name": "python3"
  },
  "language_info": {
   "codemirror_mode": {
    "name": "ipython",
    "version": 3
   },
   "file_extension": ".py",
   "mimetype": "text/x-python",
   "name": "python",
   "nbconvert_exporter": "python",
   "pygments_lexer": "ipython3",
   "version": "3.8.5"
  }
 },
 "nbformat": 4,
 "nbformat_minor": 5
}
